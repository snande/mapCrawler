{
 "cells": [
  {
   "cell_type": "code",
   "execution_count": 36,
   "metadata": {},
   "outputs": [],
   "source": [
    "import streamlit as st\n",
    "from bs4 import BeautifulSoup\n",
    "import requests\n",
    "import pandas as pd\n",
    "import numpy as np\n",
    "import re"
   ]
  },
  {
   "cell_type": "code",
   "execution_count": 37,
   "metadata": {},
   "outputs": [],
   "source": [
    "search_for = \"Hospital\"\n",
    "search_for = search_for.replace(\" \", \"+\")\n",
    "\n",
    "headers = {\"User-Agent\": \"Mozilla/5.0 (Macintosh; Intel Mac OS X 10_15_7) AppleWebKit/537.36 (KHTML, like Gecko) Chrome/108.0.0.0 Safari/537.36\", \n",
    "            \"Accept-Encoding\":\"gzip, deflate\",\n",
    "            \"Accept-Language\":\"en,en-IN;q=0.9,en-US;q=0.8,hi;q=0.7\",\n",
    "            \"Accept\":\"text/html,application/xhtml+xml,application/xml;q=0.9,image/avif,image/webp,image/apng,*/*;q=0.8,application/signed-exchange;v=b3;q=0.9\", \n",
    "            \"DNT\":\"1\",\n",
    "            \"Connection\":\"close\", \n",
    "            \"Upgrade-Insecure-Requests\":\"1\"} "
   ]
  },
  {
   "cell_type": "code",
   "execution_count": 38,
   "metadata": {},
   "outputs": [],
   "source": [
    "latitude, longitude = 12.992650, 77.668480\n",
    "\n",
    "zoom = 16\n",
    "# height = 4700\n",
    "\n",
    "delta_lat = 0.02\n",
    "delta_long = delta_lat/np.cos(delta_lat*np.pi/180)\n",
    "\n",
    "latlonglist = [(latitude+i, longitude+j) for i in [k*delta_lat for k in range(-2, 3)] \n",
    "                for j in [k*delta_long for k in range(-2, 3)]]\n",
    "\n",
    "queryData = []"
   ]
  },
  {
   "cell_type": "code",
   "execution_count": 39,
   "metadata": {},
   "outputs": [
    {
     "name": "stdout",
     "output_type": "stream",
     "text": [
      "Completed 1 out of 25\n",
      "Completed 2 out of 25\n",
      "Completed 3 out of 25\n",
      "Completed 4 out of 25\n",
      "Completed 5 out of 25\n",
      "Completed 6 out of 25\n",
      "Completed 7 out of 25\n",
      "Completed 8 out of 25\n",
      "Completed 9 out of 25\n",
      "Completed 10 out of 25\n",
      "Completed 11 out of 25\n",
      "Completed 12 out of 25\n",
      "Completed 13 out of 25\n",
      "Completed 14 out of 25\n",
      "Completed 15 out of 25\n",
      "Completed 16 out of 25\n",
      "Completed 17 out of 25\n",
      "Completed 18 out of 25\n",
      "Completed 19 out of 25\n",
      "Completed 20 out of 25\n",
      "Completed 21 out of 25\n",
      "Completed 22 out of 25\n",
      "Completed 23 out of 25\n",
      "Completed 24 out of 25\n",
      "Completed 25 out of 25\n",
      "12.997999034671702 77.6526111810294\n"
     ]
    }
   ],
   "source": [
    "loopcounter = 0\n",
    "for (lat, long) in latlonglist:\n",
    "        \n",
    "        link = (\"https://www.google.co.in/maps/search/\" + search_for + \"/@\" + str(lat) + \",\" + \n",
    "                str(long) + \",\" + str(zoom)+ \"z/data=!3m1!4b1!4m4!2m3!5m1!4e3!6e5?hl=en&authuser=0\")\n",
    "\n",
    "        html_text = requests.get(link, headers=headers).text\n",
    "\n",
    "        startList = [m.start() for m in re.finditer(r\"\\d+ reviews\", html_text)]\n",
    "        strchunks = [html_text[startList[i]:startList[i+1]] for i in range(0, len(startList)-1)]\n",
    "        strchunks.append(html_text[startList[-1]:])\n",
    "\n",
    "        for i in strchunks:\n",
    "                chunckedlist = i.split(\",\")\n",
    "                raters = int(re.findall(\"\\d+\", chunckedlist[7])[0])\n",
    "                if raters < 30:\n",
    "                        continue\n",
    "                rating = float(chunckedlist[6])\n",
    "                if rating < 4.0:\n",
    "                        continue\n",
    "\n",
    "                name = \"\"\n",
    "                prevname = \"\"\n",
    "                namelist = []\n",
    "                counter = 0\n",
    "                found = 0\n",
    "                for i in chunckedlist[:100]:\n",
    "                        if (i.startswith('\\\\\"0x')) and (found==0):\n",
    "                                found = 1\n",
    "                                partCounter = counter\n",
    "                        if (name==\"\") and (i.startswith('\\\\\"') and (not (i.endswith('\\\\\"') or i.endswith('\\\\\"]')))):\n",
    "                                name = i\n",
    "                        elif (name != \"\") and (not i.endswith('\\\\\"')):\n",
    "                                name = name + i\n",
    "                        elif (name != \"\") and (i.endswith('\\\\\"')):\n",
    "                                name = name + i\n",
    "                                if len(name) >= len(prevname):\n",
    "                                        prevname = name\n",
    "                                        name = \"\"\n",
    "                        counter += 1\n",
    "                descrs = prevname.replace(\"\\\\\", '').replace('\"', '')\n",
    "                loclat = float(re.findall(\"-?\\d+\\.?\\d*\", chunckedlist[partCounter-2])[0])\n",
    "                loclong = float(re.findall(\"-?\\d+\\.?\\d*\", chunckedlist[partCounter-1])[0])\n",
    "                if ((abs(abs(loclat)-abs(latitude)) > 0.1) or (abs(abs(loclong)-abs(longitude)) > 0.1)):\n",
    "                        continue\n",
    "                queryData.append([descrs, rating, raters, loclat, loclong])\n",
    "        loopcounter += 1\n",
    "        print(f\"Completed {loopcounter} out of {len(latlonglist)}\")\n",
    "\n",
    "df = pd.DataFrame(queryData, columns=['Descrs', 'Rating', 'Raters', 'Latitude', 'Longitude'])\n",
    "df = df.drop_duplicates()\n",
    "\n",
    "df['Scaled Rating'] = df['Rating']*(1 - np.power(1.25, -1*np.sqrt(df['Raters'])))\n",
    "df = df.sort_values(\"Scaled Rating\", ascending=False)\n",
    "\n",
    "df[\"Dist\"] = (np.sqrt((((df['Latitude']-latitude)*111.3188)**2) + \n",
    "                      (((df['Longitude']-longitude)*np.cos(latitude*0.0174)*111.3188)**2)))\n",
    "\n",
    "df.to_csv(\"result.csv\", index=False)\n",
    "midLat = (df['Latitude']*df['Scaled Rating']).mean()/(df['Scaled Rating'].mean())\n",
    "midLong = (df['Longitude']*df['Scaled Rating']).mean()/(df['Scaled Rating'].mean())\n",
    "print(midLat, midLong)"
   ]
  }
 ],
 "metadata": {
  "kernelspec": {
   "display_name": "Python 3.10.8 ('stockMarket')",
   "language": "python",
   "name": "python3"
  },
  "language_info": {
   "codemirror_mode": {
    "name": "ipython",
    "version": 3
   },
   "file_extension": ".py",
   "mimetype": "text/x-python",
   "name": "python",
   "nbconvert_exporter": "python",
   "pygments_lexer": "ipython3",
   "version": "3.10.8"
  },
  "orig_nbformat": 4,
  "vscode": {
   "interpreter": {
    "hash": "01046d7fc9b13f3d61dbeb18c05bab4a2fa1c9c73f222848bf11085e0c07a453"
   }
  }
 },
 "nbformat": 4,
 "nbformat_minor": 2
}
